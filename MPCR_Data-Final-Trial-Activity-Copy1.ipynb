{
 "cells": [
  {
   "cell_type": "code",
   "execution_count": 1,
   "metadata": {
    "collapsed": true
   },
   "outputs": [],
   "source": [
    "#!/usr/bin/python\n",
    "%matplotlib inline\n",
    "import matplotlib as mpl\n",
    "from mpl_toolkits.mplot3d import Axes3D\n",
    "import numpy as np\n",
    "import matplotlib.pyplot as plt\n",
    "from numpy.linalg import norm\n",
    "from scipy import stats\n",
    "import math\n",
    "np.random.seed(1)\n",
    "import timeit\n",
    "import tflearn\n",
    "from sklearn.feature_extraction.image import extract_patches_2d as ep2\n",
    "import tensorflow as tf\n",
    "tf.set_random_seed(1)\n",
    "\n",
    "import os, sys\n",
    "import csv\n",
    "# Open a file\n",
    "def read_datafile(file_name):\n",
    "    data = np.loadtxt(file_name, delimiter=',', skiprows=10)\n",
    "    return data"
   ]
  },
  {
   "cell_type": "code",
   "execution_count": 2,
   "metadata": {
    "collapsed": true
   },
   "outputs": [],
   "source": [
    "def Line_Plot(y):\n",
    "    x=range(len(y))\n",
    "    fig, ax = plt.subplots()\n",
    "    ax.plot(x, y)\n",
    "#     fig.set_size_inches(18, 10)\n",
    "    plt.show()\n",
    "# plotting collected dataset\n",
    "#loads files as 'data'"
   ]
  },
  {
   "cell_type": "code",
   "execution_count": 3,
   "metadata": {
    "collapsed": true
   },
   "outputs": [],
   "source": [
    "path = \"/Users/jacksonkrauss/Desktop/Jupyter/Trial3/Walk/\"\n",
    "dirs = os.listdir( path )"
   ]
  },
  {
   "cell_type": "code",
   "execution_count": 4,
   "metadata": {
    "collapsed": true
   },
   "outputs": [],
   "source": [
    "# This would print all the files and directories\n",
    "D1 = np.zeros((1000*18,3))\n",
    "D2 = np.zeros((1000*18,3))\n",
    "D3 = np.zeros((1000*18,3))"
   ]
  },
  {
   "cell_type": "code",
   "execution_count": 5,
   "metadata": {
    "collapsed": true
   },
   "outputs": [],
   "source": [
    "dir1 = iter(dirs)\n",
    "#next(dir1)\n",
    "i = 0\n",
    "j = 1\n",
    "k1 = 0\n",
    "k2 = 0\n",
    "k3 = 0\n",
    "for file in dir1:\n",
    "    #print(file)\n",
    "    data = read_datafile(path + file)\n",
    "    midpoint = math.floor(len(data)/2)\n",
    "    if j%3 == 1:\n",
    "        D1[(k1)*1000:(k1+1)*1000,:]=data[midpoint-500:midpoint+500,1:4]\n",
    "        k1+=1\n",
    "    elif j%3 ==2:\n",
    "        D2[(k2)*1000:(k2+1)*1000,:]=data[midpoint-500:midpoint+500,1:4]\n",
    "        k2+=1\n",
    "    elif j%3 ==0:\n",
    "        D3[(k3)*1000:(k3+1)*1000,:]=data[midpoint-500:midpoint+500,1:4]\n",
    "        k3+=1\n",
    "    i+=1\n",
    "    j+=1"
   ]
  },
  {
   "cell_type": "code",
   "execution_count": 6,
   "metadata": {
    "collapsed": true
   },
   "outputs": [],
   "source": [
    "path = \"/Users/jacksonkrauss/Desktop/Jupyter/Trial3/Down/\"\n",
    "dirs = os.listdir( path )"
   ]
  },
  {
   "cell_type": "code",
   "execution_count": 7,
   "metadata": {
    "collapsed": true
   },
   "outputs": [],
   "source": [
    "dir1 = iter(dirs)\n",
    "#next(dir1)\n",
    "i = 0\n",
    "j = 1\n",
    "for file in dir1:\n",
    "    #print(file)\n",
    "    data = read_datafile(path + file)\n",
    "    midpoint = math.floor(len(data)/2)\n",
    "    if j%3 == 1:\n",
    "        D1[(k1)*1000:(k1+1)*1000,:]=data[midpoint-500:midpoint+500,1:4]\n",
    "        k1+=1\n",
    "    elif j%3 ==2:\n",
    "        D2[(k2)*1000:(k2+1)*1000,:]=data[midpoint-500:midpoint+500,1:4]\n",
    "        k2+=1\n",
    "    elif j%3 ==0:\n",
    "        D3[(k3)*1000:(k3+1)*1000,:]=data[midpoint-500:midpoint+500,1:4]\n",
    "        k3+=1\n",
    "    i+=1\n",
    "    j+=1"
   ]
  },
  {
   "cell_type": "code",
   "execution_count": 8,
   "metadata": {
    "collapsed": true
   },
   "outputs": [],
   "source": [
    "path = \"/Users/jacksonkrauss/Desktop/Jupyter/Trial3/Up/\"\n",
    "dirs = os.listdir( path )"
   ]
  },
  {
   "cell_type": "code",
   "execution_count": 9,
   "metadata": {
    "collapsed": true
   },
   "outputs": [],
   "source": [
    "dir1 = iter(dirs)\n",
    "#next(dir1)\n",
    "i = 0\n",
    "j = 1\n",
    "for file in dir1:\n",
    "    #print(file)\n",
    "    data = read_datafile(path + file)\n",
    "    midpoint = math.floor(len(data)/2)\n",
    "    if j%3 == 1:\n",
    "        D1[(k1)*1000:(k1+1)*1000,:]=data[midpoint-500:midpoint+500,1:4]\n",
    "        k1+=1\n",
    "    elif j%3 ==2:\n",
    "        D2[(k2)*1000:(k2+1)*1000,:]=data[midpoint-500:midpoint+500,1:4]\n",
    "        k2+=1\n",
    "    elif j%3 ==0:\n",
    "        D3[(k3)*1000:(k3+1)*1000,:]=data[midpoint-500:midpoint+500,1:4]\n",
    "        k3+=1\n",
    "    i+=1\n",
    "    j+=1"
   ]
  },
  {
   "cell_type": "code",
   "execution_count": 10,
   "metadata": {
    "scrolled": false
   },
   "outputs": [
    {
     "data": {
      "image/png": "[encoded data removed]",
      "text/plain": [
       "<matplotlib.figure.Figure at 0x10c996b00>"
      ]
     },
     "metadata": {},
     "output_type": "display_data"
    },
    {
     "data": {
      "image/png": "[encoded data removed]",
      "text/plain": [
       "<matplotlib.figure.Figure at 0x10c991f60>"
      ]
     },
     "metadata": {},
     "output_type": "display_data"
    },
    {
     "data": {
      "image/png": "[encoded data removed]",
      "text/plain": [
       "<matplotlib.figure.Figure at 0x10c991ef0>"
      ]
     },
     "metadata": {},
     "output_type": "display_data"
    }
   ],
   "source": [
    "Line_Plot(D1)\n",
    "Line_Plot(D2)\n",
    "Line_Plot(D3)"
   ]
  },
  {
   "cell_type": "code",
   "execution_count": 11,
   "metadata": {
    "collapsed": true
   },
   "outputs": [],
   "source": [
    "X_Train = D1\n",
    "X_Test = D3\n",
    "X_Train2 = D2"
   ]
  },
  {
   "cell_type": "code",
   "execution_count": 12,
   "metadata": {
    "collapsed": true
   },
   "outputs": [],
   "source": [
    "k=np.ones((1000,))"
   ]
  },
  {
   "cell_type": "code",
   "execution_count": 13,
   "metadata": {
    "collapsed": true
   },
   "outputs": [],
   "source": [
    "Y_Train = np.concatenate((0*k,1*k,2*k,3*k,4*k,5*k,6*k,7*k,8*k,9*k,10*k,11*k,12*k,13*k,14*k,15*k,16*k,17*k)).astype(int)\n",
    "Y_Train2 = np.concatenate((0*k,1*k,2*k,3*k,4*k,5*k,6*k,7*k,8*k,9*k,10*k,11*k,12*k,13*k,14*k,15*k,16*k,17*k)).astype(int)\n",
    "Y_Test = Y_Train.astype(int)"
   ]
  },
  {
   "cell_type": "code",
   "execution_count": 14,
   "metadata": {},
   "outputs": [
    {
     "data": {
      "image/png": "[encoded data removed]",
      "text/plain": [
       "<matplotlib.figure.Figure at 0x10cf169e8>"
      ]
     },
     "metadata": {},
     "output_type": "display_data"
    }
   ],
   "source": [
    "Line_Plot(Y_Train)"
   ]
  },
  {
   "cell_type": "code",
   "execution_count": 15,
   "metadata": {
    "collapsed": true
   },
   "outputs": [],
   "source": [
    "Y_Test=Y_Test[:,None]\n",
    "Y_Train=Y_Train[:,None]\n",
    "Y_Train2=Y_Train2[:,None]"
   ]
  },
  {
   "cell_type": "code",
   "execution_count": 16,
   "metadata": {},
   "outputs": [
    {
     "name": "stdout",
     "output_type": "stream",
     "text": [
      "(18000, 3)\n",
      "(18000, 3)\n",
      "(18000, 3)\n",
      "(18000, 1)\n",
      "(18000, 1)\n",
      "(18000, 1)\n"
     ]
    }
   ],
   "source": [
    "print(X_Test.shape)\n",
    "print(X_Train.shape)\n",
    "print(X_Train2.shape)\n",
    "print(Y_Test.shape)\n",
    "print(Y_Train.shape)\n",
    "print(Y_Train2.shape)"
   ]
  },
  {
   "cell_type": "code",
   "execution_count": 17,
   "metadata": {
    "collapsed": true
   },
   "outputs": [],
   "source": [
    "N = 3 # Size of N-gram time window\n",
    "D = 1000 # Dimension of Hypervectors\n",
    "Levels=100  # Number of levels for digitization\n",
    "Threshold = 0.9\n",
    "CH=3 # Amount of channels"
   ]
  },
  {
   "cell_type": "code",
   "execution_count": 18,
   "metadata": {
    "collapsed": true
   },
   "outputs": [],
   "source": [
    "def Create_Hypervector(D):\n",
    "    randomIndex = np.random.permutation(D)\n",
    "    randomHV = np.zeros((D,))\n",
    "    randomHV[randomIndex[0 : int(D/2)]] = 1\n",
    "    randomHV[randomIndex[int(D/2)+1 : D]] = -1\n",
    "    return randomHV"
   ]
  },
  {
   "cell_type": "code",
   "execution_count": 19,
   "metadata": {
    "collapsed": true
   },
   "outputs": [],
   "source": [
    "def Compute_Ngram(data, CiM, iM):\n",
    "\n",
    "    Ngram = np.ones((1,iM.shape[1]))\n",
    "    \n",
    "    for time in range(data.shape[0]):\n",
    "        \n",
    "        record = np.zeros((1,iM.shape[1]))\n",
    "        \n",
    "        for channel in range(data.shape[1]):\n",
    "            \n",
    "            record += CiM[data[time,channel],:] * iM[channel,:]\n",
    "            \n",
    "        Ngram = np.roll(Ngram,1) * record\n",
    "        \n",
    "    return Ngram"
   ]
  },
  {
   "cell_type": "code",
   "execution_count": 20,
   "metadata": {
    "collapsed": true
   },
   "outputs": [],
   "source": [
    "def Cosine_Similarity(u, v):\n",
    "  \n",
    "    u = np.matrix(u)\n",
    "    v = np.matrix(v)\n",
    "    c = np.divide(np.matmul(u,np.transpose(v)),np.spacing(1)+np.sqrt(np.sum(np.multiply(u,u),axis=1))*np.sqrt(np.sum(np.multiply(v,v),axis=1)))\n",
    "    \n",
    "    return c"
   ]
  },
  {
   "cell_type": "code",
   "execution_count": 21,
   "metadata": {
    "collapsed": true
   },
   "outputs": [],
   "source": [
    "def HDC_Train(Y, X, CiM, iM, N, Threshold, AM=False):\n",
    "    \n",
    "    if AM is False:\n",
    "        AM = np.zeros((np.max(Y)+1,iM.shape[1]))\n",
    "\n",
    "    for i in range(X.shape[0]-(N+1)):\n",
    "\n",
    "        Ngram = Compute_Ngram(X[i:i+N-1,:], CiM, iM)\n",
    "      \n",
    "        Angle = Cosine_Similarity(Ngram, AM[Y[i+N-1],:])\n",
    "        \n",
    "        if Angle < Threshold or np.isnan(Angle):\n",
    "\n",
    "            AM[Y[i+N-1],:] += Ngram\n",
    "        \n",
    "    AM/=norm(AM,2)\n",
    "        \n",
    "    return AM"
   ]
  },
  {
   "cell_type": "code",
   "execution_count": 22,
   "metadata": {
    "collapsed": true
   },
   "outputs": [],
   "source": [
    "def HDC_Predict (Y, X, AM, CiM, iM, N):\n",
    "\n",
    "    Correct = 0\n",
    "    Count = 0\n",
    "    \n",
    "    for i in range(len(Y)-(N+1)):\n",
    "\n",
    "        Label = stats.mode(Y[i:i+N-1], axis=None)[0][0]\n",
    "    \n",
    "        Signal_HV = Compute_Ngram(X[i:i+N-1,:], CiM, iM)   \n",
    "        \n",
    "        Guess=np.argmax(Cosine_Similarity(AM, Signal_HV))\n",
    "        \n",
    "        if Guess == Label:\n",
    "            Correct += 1\n",
    "        \n",
    "        Count += 1\n",
    "        Accuracy = Correct / float(Count)\n",
    "        \n",
    "    return Accuracy"
   ]
  },
  {
   "cell_type": "code",
   "execution_count": 23,
   "metadata": {
    "collapsed": true
   },
   "outputs": [],
   "source": [
    "def Continuous_Item_Memory(D, MAXL):\n",
    "    \n",
    "    CiM = np.zeros((MAXL,D)) #create empty memory\n",
    "    \n",
    "    HV = Create_Hypervector(D)\n",
    "    r = np.random.permutation(D)\n",
    "    \n",
    "    for i in range(MAXL):\n",
    "        \n",
    "        CiM[i,:] = HV\n",
    "        #50 bits away from each until they become orthogonal\n",
    "        SP = np.floor(D/2/MAXL)\n",
    "        start = int((i*SP) + 1)\n",
    "        end = int(((i+1)*SP) + 1)\n",
    "        HV[r[start:end]] = HV[r[start:end]]*-1 #flips bits\n",
    "        \n",
    "    return (CiM)"
   ]
  },
  {
   "cell_type": "code",
   "execution_count": 24,
   "metadata": {
    "collapsed": true
   },
   "outputs": [],
   "source": [
    "def Item_Memory(D, CH):\n",
    "    \n",
    "    iM = np.zeros((CH,D)) #item memory orthogonal direction\n",
    "    \n",
    "    for row in range(CH):\n",
    "        \n",
    "        iM[row,:] = Create_Hypervector(D)\n",
    "    \n",
    "    return (iM)"
   ]
  },
  {
   "cell_type": "code",
   "execution_count": 25,
   "metadata": {
    "collapsed": true
   },
   "outputs": [],
   "source": [
    "def Make_Integer(x,count):\n",
    "\n",
    "    start = np.min(x)\n",
    "    stop = np.max(x)\n",
    "    bins = np.linspace(start, stop, count-1)\n",
    "    x = np.digitize(x, bins)\n",
    "    \n",
    "    return x"
   ]
  },
  {
   "cell_type": "code",
   "execution_count": 26,
   "metadata": {
    "collapsed": true
   },
   "outputs": [],
   "source": [
    "X_Train = Make_Integer(X_Train,Levels)\n",
    "X_Train2 = Make_Integer(X_Train2,Levels)\n",
    "X_Test = Make_Integer(X_Test,Levels)"
   ]
  },
  {
   "cell_type": "code",
   "execution_count": 27,
   "metadata": {
    "collapsed": true
   },
   "outputs": [],
   "source": [
    "iM = Item_Memory(D, CH)"
   ]
  },
  {
   "cell_type": "code",
   "execution_count": 28,
   "metadata": {
    "collapsed": true
   },
   "outputs": [],
   "source": [
    "CiM = Continuous_Item_Memory(D, Levels)"
   ]
  },
  {
   "cell_type": "code",
   "execution_count": 29,
   "metadata": {
    "collapsed": true
   },
   "outputs": [],
   "source": [
    "model_1 = HDC_Train(Y_Train, X_Train, CiM, iM, N, Threshold)"
   ]
  },
  {
   "cell_type": "code",
   "execution_count": 30,
   "metadata": {
    "collapsed": true
   },
   "outputs": [],
   "source": [
    "accuracy = HDC_Predict(Y_Test, X_Test, model_1, CiM, iM, N)"
   ]
  },
  {
   "cell_type": "code",
   "execution_count": 31,
   "metadata": {},
   "outputs": [
    {
     "data": {
      "text/plain": [
       "0.1125250055567904"
      ]
     },
     "execution_count": 31,
     "metadata": {},
     "output_type": "execute_result"
    }
   ],
   "source": [
    "accuracy"
   ]
  },
  {
   "cell_type": "code",
   "execution_count": 32,
   "metadata": {
    "collapsed": true
   },
   "outputs": [],
   "source": [
    "model_2 = HDC_Train(Y_Train2, X_Train2, CiM, iM, N, Threshold, model_1)"
   ]
  },
  {
   "cell_type": "code",
   "execution_count": 33,
   "metadata": {
    "collapsed": true
   },
   "outputs": [],
   "source": [
    "accuracy2 = HDC_Predict(Y_Test, X_Test, model_2, CiM, iM, N)"
   ]
  },
  {
   "cell_type": "code",
   "execution_count": 34,
   "metadata": {},
   "outputs": [
    {
     "data": {
      "text/plain": [
       "0.12647254945543454"
      ]
     },
     "execution_count": 34,
     "metadata": {},
     "output_type": "execute_result"
    }
   ],
   "source": [
    "accuracy2"
   ]
  },
  {
   "cell_type": "code",
   "execution_count": 35,
   "metadata": {},
   "outputs": [
    {
     "name": "stdout",
     "output_type": "stream",
     "text": [
      "(53986, 3, 15)\n",
      "(53986, 18)\n"
     ]
    },
    {
     "data": {
      "image/png": "[encoded data removed]",
      "text/plain": [
       "<matplotlib.figure.Figure at 0x10d243b38>"
      ]
     },
     "metadata": {},
     "output_type": "display_data"
    },
    {
     "data": {
      "image/png": "[encoded data removed]",
      "text/plain": [
       "<matplotlib.figure.Figure at 0x10d243ba8>"
      ]
     },
     "metadata": {},
     "output_type": "display_data"
    }
   ],
   "source": [
    "window_size = 15\n",
    "\n",
    "X_Train = np.concatenate((X_Train, X_Train2, X_Test), 0)\n",
    "Y_Train = np.concatenate((Y_Train, Y_Train2, Y_Test), 0)\n",
    "\n",
    "X = ep2(X_Train.transpose(), (3, window_size))\n",
    "\n",
    "Y = np.zeros([X.shape[0], 18])\n",
    "y = Y_Train[np.int32((window_size-1)/2):-np.int32((window_size-1)/2)]\n",
    "Y[np.arange(Y.shape[0]), y] = 1.0\n",
    "\n",
    "print(X.shape)\n",
    "print(Y.shape)\n",
    "Line_Plot(X_Train)\n",
    "Line_Plot(Y_Train)"
   ]
  },
  {
   "cell_type": "code",
   "execution_count": 36,
   "metadata": {},
   "outputs": [
    {
     "name": "stdout",
     "output_type": "stream",
     "text": [
      "Training Step: 674  | total loss: \u001b[1m\u001b[32m52.02670\u001b[0m\u001b[0m | time: 45.855s\n",
      "| Adam | epoch: 001 | loss: 52.02670 - acc: 0.0423 -- iter: 43136/43188\n",
      "Training Step: 675  | total loss: \u001b[1m\u001b[32m52.02670\u001b[0m\u001b[0m | time: 47.243s\n",
      "| Adam | epoch: 001 | loss: 52.02670 - acc: 0.0427 | val_loss: 52.02669 - val_acc: 0.0255 -- iter: 43188/43188\n",
      "--\n"
     ]
    }
   ],
   "source": [
    "net = tflearn.input_data(shape=[None, 3, window_size])\n",
    "net = tflearn.lstm(net, 128, return_seq=True)\n",
    "net = tflearn.lstm(net, 128)\n",
    "net = tflearn.fully_connected(net, 18, activation='softmax')\n",
    "net = tflearn.regression(net, optimizer='adam',\n",
    "                         loss='categorical_crossentropy', name=\"output1\", learning_rate=0.001)\n",
    "model = tflearn.DNN(net, tensorboard_verbose=2)\n",
    "model.fit(X, Y, n_epoch=1, validation_set=0.2, show_metric=True,\n",
    "          snapshot_step=100)"
   ]
  },
  {
   "cell_type": "code",
   "execution_count": null,
   "metadata": {
    "collapsed": true
   },
   "outputs": [],
   "source": []
  }
 ],
 "metadata": {
  "kernelspec": {
   "display_name": "Python 3",
   "language": "python",
   "name": "python3"
  },
  "language_info": {
   "codemirror_mode": {
    "name": "ipython",
    "version": 3
   },
   "file_extension": ".py",
   "mimetype": "text/x-python",
   "name": "python",
   "nbconvert_exporter": "python",
   "pygments_lexer": "ipython3",
   "version": "3.6.2"
  }
 },
 "nbformat": 4,
 "nbformat_minor": 2
}
